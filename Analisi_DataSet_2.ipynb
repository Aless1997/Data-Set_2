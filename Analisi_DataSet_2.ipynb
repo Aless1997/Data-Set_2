{
  "nbformat": 4,
  "nbformat_minor": 0,
  "metadata": {
    "colab": {
      "provenance": [],
      "authorship_tag": "ABX9TyNM7SN3BCnauTPd8F7TadAF",
      "include_colab_link": true
    },
    "kernelspec": {
      "name": "python3",
      "display_name": "Python 3"
    },
    "language_info": {
      "name": "python"
    }
  },
  "cells": [
    {
      "cell_type": "markdown",
      "metadata": {
        "id": "view-in-github",
        "colab_type": "text"
      },
      "source": [
        "<a href=\"https://colab.research.google.com/github/Aless1997/Data-Set_2/blob/main/Analisi_DataSet_2.ipynb\" target=\"_parent\"><img src=\"https://colab.research.google.com/assets/colab-badge.svg\" alt=\"Open In Colab\"/></a>"
      ]
    },
    {
      "cell_type": "markdown",
      "source": [
        "Importiamo tutte le librerie di cui abbiamo bisogno:"
      ],
      "metadata": {
        "id": "dh6rpwsB_W5O"
      }
    },
    {
      "cell_type": "code",
      "source": [
        "import pandas as pd\n",
        "import seaborn as sns\n"
      ],
      "metadata": {
        "id": "wvtA8sI3_bdn"
      },
      "execution_count": 44,
      "outputs": []
    },
    {
      "cell_type": "markdown",
      "source": [
        "Andiamo ad importare il nostro Data Set"
      ],
      "metadata": {
        "id": "cANGL-NC_y5o"
      }
    },
    {
      "cell_type": "code",
      "source": [
        "df = pd.read_csv('Applicant-details.csv')\n",
        "df.head(10)"
      ],
      "metadata": {
        "colab": {
          "base_uri": "https://localhost:8080/",
          "height": 383
        },
        "id": "PN54n7UZ_3ln",
        "outputId": "0a41e1f0-6e72-4766-99e6-86d56be62f81"
      },
      "execution_count": 45,
      "outputs": [
        {
          "output_type": "execute_result",
          "data": {
            "text/plain": [
              "   Applicant_ID  Annual_Income  Applicant_Age  Work_Experience Marital_Status  \\\n",
              "0         75722        9657655             76                0         single   \n",
              "1         80185        9259353             37               18         single   \n",
              "2         19865        1509721             66                8         single   \n",
              "3         76700        5867312             43                1         single   \n",
              "4         92992        7223191             44                9         single   \n",
              "5         76435        1161425             45               14         single   \n",
              "6         84005        7059529             63                8         single   \n",
              "7         80918         555485             31               15         single   \n",
              "8         60768        5395461             71               10         single   \n",
              "9         50075        4772948             46               17         single   \n",
              "\n",
              "  House_Ownership Vehicle_Ownership(car)              Occupation  \\\n",
              "0          rented                     no            Psychologist   \n",
              "1          rented                     no      Petroleum_Engineer   \n",
              "2          rented                     no                 Drafter   \n",
              "3           owned                     no    Chartered_Accountant   \n",
              "4          rented                     no  Air_traffic_controller   \n",
              "5          rented                     no     Biomedical_Engineer   \n",
              "6          rented                    yes        Fashion_Designer   \n",
              "7          rented                    yes              Magistrate   \n",
              "8          rented                     no   Technology_specialist   \n",
              "9          rented                     no  Air_traffic_controller   \n",
              "\n",
              "  Residence_City Residence_State  Years_in_Current_Employment  \\\n",
              "0      Jalandhar          Punjab                            0   \n",
              "1          Bally     West_Bengal                           12   \n",
              "2         Indore  Madhya_Pradesh                            4   \n",
              "3    Kurnool[18]  Andhra_Pradesh                            1   \n",
              "4        Asansol     West_Bengal                            9   \n",
              "5     Bongaigaon           Assam                           13   \n",
              "6        Katihar           Bihar                            8   \n",
              "7          Sikar       Rajasthan                           12   \n",
              "8      Chinsurah     West_Bengal                            5   \n",
              "9  Muzaffarnagar   Uttar_Pradesh                           11   \n",
              "\n",
              "   Years_in_Current_Residence  Loan_Default_Risk  \n",
              "0                          12                  0  \n",
              "1                          11                  0  \n",
              "2                          12                  0  \n",
              "3                          13                  1  \n",
              "4                          13                  0  \n",
              "5                          13                  0  \n",
              "6                          13                  1  \n",
              "7                          11                  0  \n",
              "8                          10                  0  \n",
              "9                          14                  1  "
            ],
            "text/html": [
              "\n",
              "  <div id=\"df-2d65db22-afef-4e3b-8012-29879af6ed29\" class=\"colab-df-container\">\n",
              "    <div>\n",
              "<style scoped>\n",
              "    .dataframe tbody tr th:only-of-type {\n",
              "        vertical-align: middle;\n",
              "    }\n",
              "\n",
              "    .dataframe tbody tr th {\n",
              "        vertical-align: top;\n",
              "    }\n",
              "\n",
              "    .dataframe thead th {\n",
              "        text-align: right;\n",
              "    }\n",
              "</style>\n",
              "<table border=\"1\" class=\"dataframe\">\n",
              "  <thead>\n",
              "    <tr style=\"text-align: right;\">\n",
              "      <th></th>\n",
              "      <th>Applicant_ID</th>\n",
              "      <th>Annual_Income</th>\n",
              "      <th>Applicant_Age</th>\n",
              "      <th>Work_Experience</th>\n",
              "      <th>Marital_Status</th>\n",
              "      <th>House_Ownership</th>\n",
              "      <th>Vehicle_Ownership(car)</th>\n",
              "      <th>Occupation</th>\n",
              "      <th>Residence_City</th>\n",
              "      <th>Residence_State</th>\n",
              "      <th>Years_in_Current_Employment</th>\n",
              "      <th>Years_in_Current_Residence</th>\n",
              "      <th>Loan_Default_Risk</th>\n",
              "    </tr>\n",
              "  </thead>\n",
              "  <tbody>\n",
              "    <tr>\n",
              "      <th>0</th>\n",
              "      <td>75722</td>\n",
              "      <td>9657655</td>\n",
              "      <td>76</td>\n",
              "      <td>0</td>\n",
              "      <td>single</td>\n",
              "      <td>rented</td>\n",
              "      <td>no</td>\n",
              "      <td>Psychologist</td>\n",
              "      <td>Jalandhar</td>\n",
              "      <td>Punjab</td>\n",
              "      <td>0</td>\n",
              "      <td>12</td>\n",
              "      <td>0</td>\n",
              "    </tr>\n",
              "    <tr>\n",
              "      <th>1</th>\n",
              "      <td>80185</td>\n",
              "      <td>9259353</td>\n",
              "      <td>37</td>\n",
              "      <td>18</td>\n",
              "      <td>single</td>\n",
              "      <td>rented</td>\n",
              "      <td>no</td>\n",
              "      <td>Petroleum_Engineer</td>\n",
              "      <td>Bally</td>\n",
              "      <td>West_Bengal</td>\n",
              "      <td>12</td>\n",
              "      <td>11</td>\n",
              "      <td>0</td>\n",
              "    </tr>\n",
              "    <tr>\n",
              "      <th>2</th>\n",
              "      <td>19865</td>\n",
              "      <td>1509721</td>\n",
              "      <td>66</td>\n",
              "      <td>8</td>\n",
              "      <td>single</td>\n",
              "      <td>rented</td>\n",
              "      <td>no</td>\n",
              "      <td>Drafter</td>\n",
              "      <td>Indore</td>\n",
              "      <td>Madhya_Pradesh</td>\n",
              "      <td>4</td>\n",
              "      <td>12</td>\n",
              "      <td>0</td>\n",
              "    </tr>\n",
              "    <tr>\n",
              "      <th>3</th>\n",
              "      <td>76700</td>\n",
              "      <td>5867312</td>\n",
              "      <td>43</td>\n",
              "      <td>1</td>\n",
              "      <td>single</td>\n",
              "      <td>owned</td>\n",
              "      <td>no</td>\n",
              "      <td>Chartered_Accountant</td>\n",
              "      <td>Kurnool[18]</td>\n",
              "      <td>Andhra_Pradesh</td>\n",
              "      <td>1</td>\n",
              "      <td>13</td>\n",
              "      <td>1</td>\n",
              "    </tr>\n",
              "    <tr>\n",
              "      <th>4</th>\n",
              "      <td>92992</td>\n",
              "      <td>7223191</td>\n",
              "      <td>44</td>\n",
              "      <td>9</td>\n",
              "      <td>single</td>\n",
              "      <td>rented</td>\n",
              "      <td>no</td>\n",
              "      <td>Air_traffic_controller</td>\n",
              "      <td>Asansol</td>\n",
              "      <td>West_Bengal</td>\n",
              "      <td>9</td>\n",
              "      <td>13</td>\n",
              "      <td>0</td>\n",
              "    </tr>\n",
              "    <tr>\n",
              "      <th>5</th>\n",
              "      <td>76435</td>\n",
              "      <td>1161425</td>\n",
              "      <td>45</td>\n",
              "      <td>14</td>\n",
              "      <td>single</td>\n",
              "      <td>rented</td>\n",
              "      <td>no</td>\n",
              "      <td>Biomedical_Engineer</td>\n",
              "      <td>Bongaigaon</td>\n",
              "      <td>Assam</td>\n",
              "      <td>13</td>\n",
              "      <td>13</td>\n",
              "      <td>0</td>\n",
              "    </tr>\n",
              "    <tr>\n",
              "      <th>6</th>\n",
              "      <td>84005</td>\n",
              "      <td>7059529</td>\n",
              "      <td>63</td>\n",
              "      <td>8</td>\n",
              "      <td>single</td>\n",
              "      <td>rented</td>\n",
              "      <td>yes</td>\n",
              "      <td>Fashion_Designer</td>\n",
              "      <td>Katihar</td>\n",
              "      <td>Bihar</td>\n",
              "      <td>8</td>\n",
              "      <td>13</td>\n",
              "      <td>1</td>\n",
              "    </tr>\n",
              "    <tr>\n",
              "      <th>7</th>\n",
              "      <td>80918</td>\n",
              "      <td>555485</td>\n",
              "      <td>31</td>\n",
              "      <td>15</td>\n",
              "      <td>single</td>\n",
              "      <td>rented</td>\n",
              "      <td>yes</td>\n",
              "      <td>Magistrate</td>\n",
              "      <td>Sikar</td>\n",
              "      <td>Rajasthan</td>\n",
              "      <td>12</td>\n",
              "      <td>11</td>\n",
              "      <td>0</td>\n",
              "    </tr>\n",
              "    <tr>\n",
              "      <th>8</th>\n",
              "      <td>60768</td>\n",
              "      <td>5395461</td>\n",
              "      <td>71</td>\n",
              "      <td>10</td>\n",
              "      <td>single</td>\n",
              "      <td>rented</td>\n",
              "      <td>no</td>\n",
              "      <td>Technology_specialist</td>\n",
              "      <td>Chinsurah</td>\n",
              "      <td>West_Bengal</td>\n",
              "      <td>5</td>\n",
              "      <td>10</td>\n",
              "      <td>0</td>\n",
              "    </tr>\n",
              "    <tr>\n",
              "      <th>9</th>\n",
              "      <td>50075</td>\n",
              "      <td>4772948</td>\n",
              "      <td>46</td>\n",
              "      <td>17</td>\n",
              "      <td>single</td>\n",
              "      <td>rented</td>\n",
              "      <td>no</td>\n",
              "      <td>Air_traffic_controller</td>\n",
              "      <td>Muzaffarnagar</td>\n",
              "      <td>Uttar_Pradesh</td>\n",
              "      <td>11</td>\n",
              "      <td>14</td>\n",
              "      <td>1</td>\n",
              "    </tr>\n",
              "  </tbody>\n",
              "</table>\n",
              "</div>\n",
              "    <div class=\"colab-df-buttons\">\n",
              "\n",
              "  <div class=\"colab-df-container\">\n",
              "    <button class=\"colab-df-convert\" onclick=\"convertToInteractive('df-2d65db22-afef-4e3b-8012-29879af6ed29')\"\n",
              "            title=\"Convert this dataframe to an interactive table.\"\n",
              "            style=\"display:none;\">\n",
              "\n",
              "  <svg xmlns=\"http://www.w3.org/2000/svg\" height=\"24px\" viewBox=\"0 -960 960 960\">\n",
              "    <path d=\"M120-120v-720h720v720H120Zm60-500h600v-160H180v160Zm220 220h160v-160H400v160Zm0 220h160v-160H400v160ZM180-400h160v-160H180v160Zm440 0h160v-160H620v160ZM180-180h160v-160H180v160Zm440 0h160v-160H620v160Z\"/>\n",
              "  </svg>\n",
              "    </button>\n",
              "\n",
              "  <style>\n",
              "    .colab-df-container {\n",
              "      display:flex;\n",
              "      gap: 12px;\n",
              "    }\n",
              "\n",
              "    .colab-df-convert {\n",
              "      background-color: #E8F0FE;\n",
              "      border: none;\n",
              "      border-radius: 50%;\n",
              "      cursor: pointer;\n",
              "      display: none;\n",
              "      fill: #1967D2;\n",
              "      height: 32px;\n",
              "      padding: 0 0 0 0;\n",
              "      width: 32px;\n",
              "    }\n",
              "\n",
              "    .colab-df-convert:hover {\n",
              "      background-color: #E2EBFA;\n",
              "      box-shadow: 0px 1px 2px rgba(60, 64, 67, 0.3), 0px 1px 3px 1px rgba(60, 64, 67, 0.15);\n",
              "      fill: #174EA6;\n",
              "    }\n",
              "\n",
              "    .colab-df-buttons div {\n",
              "      margin-bottom: 4px;\n",
              "    }\n",
              "\n",
              "    [theme=dark] .colab-df-convert {\n",
              "      background-color: #3B4455;\n",
              "      fill: #D2E3FC;\n",
              "    }\n",
              "\n",
              "    [theme=dark] .colab-df-convert:hover {\n",
              "      background-color: #434B5C;\n",
              "      box-shadow: 0px 1px 3px 1px rgba(0, 0, 0, 0.15);\n",
              "      filter: drop-shadow(0px 1px 2px rgba(0, 0, 0, 0.3));\n",
              "      fill: #FFFFFF;\n",
              "    }\n",
              "  </style>\n",
              "\n",
              "    <script>\n",
              "      const buttonEl =\n",
              "        document.querySelector('#df-2d65db22-afef-4e3b-8012-29879af6ed29 button.colab-df-convert');\n",
              "      buttonEl.style.display =\n",
              "        google.colab.kernel.accessAllowed ? 'block' : 'none';\n",
              "\n",
              "      async function convertToInteractive(key) {\n",
              "        const element = document.querySelector('#df-2d65db22-afef-4e3b-8012-29879af6ed29');\n",
              "        const dataTable =\n",
              "          await google.colab.kernel.invokeFunction('convertToInteractive',\n",
              "                                                    [key], {});\n",
              "        if (!dataTable) return;\n",
              "\n",
              "        const docLinkHtml = 'Like what you see? Visit the ' +\n",
              "          '<a target=\"_blank\" href=https://colab.research.google.com/notebooks/data_table.ipynb>data table notebook</a>'\n",
              "          + ' to learn more about interactive tables.';\n",
              "        element.innerHTML = '';\n",
              "        dataTable['output_type'] = 'display_data';\n",
              "        await google.colab.output.renderOutput(dataTable, element);\n",
              "        const docLink = document.createElement('div');\n",
              "        docLink.innerHTML = docLinkHtml;\n",
              "        element.appendChild(docLink);\n",
              "      }\n",
              "    </script>\n",
              "  </div>\n",
              "\n",
              "\n",
              "<div id=\"df-58705d46-19a0-4054-890c-6c0abe3f7004\">\n",
              "  <button class=\"colab-df-quickchart\" onclick=\"quickchart('df-58705d46-19a0-4054-890c-6c0abe3f7004')\"\n",
              "            title=\"Suggest charts\"\n",
              "            style=\"display:none;\">\n",
              "\n",
              "<svg xmlns=\"http://www.w3.org/2000/svg\" height=\"24px\"viewBox=\"0 0 24 24\"\n",
              "     width=\"24px\">\n",
              "    <g>\n",
              "        <path d=\"M19 3H5c-1.1 0-2 .9-2 2v14c0 1.1.9 2 2 2h14c1.1 0 2-.9 2-2V5c0-1.1-.9-2-2-2zM9 17H7v-7h2v7zm4 0h-2V7h2v10zm4 0h-2v-4h2v4z\"/>\n",
              "    </g>\n",
              "</svg>\n",
              "  </button>\n",
              "\n",
              "<style>\n",
              "  .colab-df-quickchart {\n",
              "      --bg-color: #E8F0FE;\n",
              "      --fill-color: #1967D2;\n",
              "      --hover-bg-color: #E2EBFA;\n",
              "      --hover-fill-color: #174EA6;\n",
              "      --disabled-fill-color: #AAA;\n",
              "      --disabled-bg-color: #DDD;\n",
              "  }\n",
              "\n",
              "  [theme=dark] .colab-df-quickchart {\n",
              "      --bg-color: #3B4455;\n",
              "      --fill-color: #D2E3FC;\n",
              "      --hover-bg-color: #434B5C;\n",
              "      --hover-fill-color: #FFFFFF;\n",
              "      --disabled-bg-color: #3B4455;\n",
              "      --disabled-fill-color: #666;\n",
              "  }\n",
              "\n",
              "  .colab-df-quickchart {\n",
              "    background-color: var(--bg-color);\n",
              "    border: none;\n",
              "    border-radius: 50%;\n",
              "    cursor: pointer;\n",
              "    display: none;\n",
              "    fill: var(--fill-color);\n",
              "    height: 32px;\n",
              "    padding: 0;\n",
              "    width: 32px;\n",
              "  }\n",
              "\n",
              "  .colab-df-quickchart:hover {\n",
              "    background-color: var(--hover-bg-color);\n",
              "    box-shadow: 0 1px 2px rgba(60, 64, 67, 0.3), 0 1px 3px 1px rgba(60, 64, 67, 0.15);\n",
              "    fill: var(--button-hover-fill-color);\n",
              "  }\n",
              "\n",
              "  .colab-df-quickchart-complete:disabled,\n",
              "  .colab-df-quickchart-complete:disabled:hover {\n",
              "    background-color: var(--disabled-bg-color);\n",
              "    fill: var(--disabled-fill-color);\n",
              "    box-shadow: none;\n",
              "  }\n",
              "\n",
              "  .colab-df-spinner {\n",
              "    border: 2px solid var(--fill-color);\n",
              "    border-color: transparent;\n",
              "    border-bottom-color: var(--fill-color);\n",
              "    animation:\n",
              "      spin 1s steps(1) infinite;\n",
              "  }\n",
              "\n",
              "  @keyframes spin {\n",
              "    0% {\n",
              "      border-color: transparent;\n",
              "      border-bottom-color: var(--fill-color);\n",
              "      border-left-color: var(--fill-color);\n",
              "    }\n",
              "    20% {\n",
              "      border-color: transparent;\n",
              "      border-left-color: var(--fill-color);\n",
              "      border-top-color: var(--fill-color);\n",
              "    }\n",
              "    30% {\n",
              "      border-color: transparent;\n",
              "      border-left-color: var(--fill-color);\n",
              "      border-top-color: var(--fill-color);\n",
              "      border-right-color: var(--fill-color);\n",
              "    }\n",
              "    40% {\n",
              "      border-color: transparent;\n",
              "      border-right-color: var(--fill-color);\n",
              "      border-top-color: var(--fill-color);\n",
              "    }\n",
              "    60% {\n",
              "      border-color: transparent;\n",
              "      border-right-color: var(--fill-color);\n",
              "    }\n",
              "    80% {\n",
              "      border-color: transparent;\n",
              "      border-right-color: var(--fill-color);\n",
              "      border-bottom-color: var(--fill-color);\n",
              "    }\n",
              "    90% {\n",
              "      border-color: transparent;\n",
              "      border-bottom-color: var(--fill-color);\n",
              "    }\n",
              "  }\n",
              "</style>\n",
              "\n",
              "  <script>\n",
              "    async function quickchart(key) {\n",
              "      const quickchartButtonEl =\n",
              "        document.querySelector('#' + key + ' button');\n",
              "      quickchartButtonEl.disabled = true;  // To prevent multiple clicks.\n",
              "      quickchartButtonEl.classList.add('colab-df-spinner');\n",
              "      try {\n",
              "        const charts = await google.colab.kernel.invokeFunction(\n",
              "            'suggestCharts', [key], {});\n",
              "      } catch (error) {\n",
              "        console.error('Error during call to suggestCharts:', error);\n",
              "      }\n",
              "      quickchartButtonEl.classList.remove('colab-df-spinner');\n",
              "      quickchartButtonEl.classList.add('colab-df-quickchart-complete');\n",
              "    }\n",
              "    (() => {\n",
              "      let quickchartButtonEl =\n",
              "        document.querySelector('#df-58705d46-19a0-4054-890c-6c0abe3f7004 button');\n",
              "      quickchartButtonEl.style.display =\n",
              "        google.colab.kernel.accessAllowed ? 'block' : 'none';\n",
              "    })();\n",
              "  </script>\n",
              "</div>\n",
              "    </div>\n",
              "  </div>\n"
            ],
            "application/vnd.google.colaboratory.intrinsic+json": {
              "type": "dataframe",
              "variable_name": "df",
              "summary": "{\n  \"name\": \"df\",\n  \"rows\": 100000,\n  \"fields\": [\n    {\n      \"column\": \"Applicant_ID\",\n      \"properties\": {\n        \"dtype\": \"number\",\n        \"std\": 28867,\n        \"min\": 1,\n        \"max\": 100000,\n        \"num_unique_values\": 100000,\n        \"samples\": [\n          48299,\n          81048,\n          92755\n        ],\n        \"semantic_type\": \"\",\n        \"description\": \"\"\n      }\n    },\n    {\n      \"column\": \"Annual_Income\",\n      \"properties\": {\n        \"dtype\": \"number\",\n        \"std\": 2876393,\n        \"min\": 10310,\n        \"max\": 9999180,\n        \"num_unique_values\": 5999,\n        \"samples\": [\n          6915937,\n          6652382,\n          9677982\n        ],\n        \"semantic_type\": \"\",\n        \"description\": \"\"\n      }\n    },\n    {\n      \"column\": \"Applicant_Age\",\n      \"properties\": {\n        \"dtype\": \"number\",\n        \"std\": 17,\n        \"min\": 21,\n        \"max\": 79,\n        \"num_unique_values\": 59,\n        \"samples\": [\n          76,\n          45,\n          21\n        ],\n        \"semantic_type\": \"\",\n        \"description\": \"\"\n      }\n    },\n    {\n      \"column\": \"Work_Experience\",\n      \"properties\": {\n        \"dtype\": \"number\",\n        \"std\": 5,\n        \"min\": 0,\n        \"max\": 20,\n        \"num_unique_values\": 21,\n        \"samples\": [\n          0,\n          5,\n          12\n        ],\n        \"semantic_type\": \"\",\n        \"description\": \"\"\n      }\n    },\n    {\n      \"column\": \"Marital_Status\",\n      \"properties\": {\n        \"dtype\": \"category\",\n        \"num_unique_values\": 2,\n        \"samples\": [\n          \"married\",\n          \"single\"\n        ],\n        \"semantic_type\": \"\",\n        \"description\": \"\"\n      }\n    },\n    {\n      \"column\": \"House_Ownership\",\n      \"properties\": {\n        \"dtype\": \"category\",\n        \"num_unique_values\": 3,\n        \"samples\": [\n          \"rented\",\n          \"owned\"\n        ],\n        \"semantic_type\": \"\",\n        \"description\": \"\"\n      }\n    },\n    {\n      \"column\": \"Vehicle_Ownership(car)\",\n      \"properties\": {\n        \"dtype\": \"category\",\n        \"num_unique_values\": 2,\n        \"samples\": [\n          \"yes\",\n          \"no\"\n        ],\n        \"semantic_type\": \"\",\n        \"description\": \"\"\n      }\n    },\n    {\n      \"column\": \"Occupation\",\n      \"properties\": {\n        \"dtype\": \"category\",\n        \"num_unique_values\": 51,\n        \"samples\": [\n          \"Firefighter\",\n          \"Technical_writer\"\n        ],\n        \"semantic_type\": \"\",\n        \"description\": \"\"\n      }\n    },\n    {\n      \"column\": \"Residence_City\",\n      \"properties\": {\n        \"dtype\": \"category\",\n        \"num_unique_values\": 317,\n        \"samples\": [\n          \"Bhusawal\",\n          \"Patiala\"\n        ],\n        \"semantic_type\": \"\",\n        \"description\": \"\"\n      }\n    },\n    {\n      \"column\": \"Residence_State\",\n      \"properties\": {\n        \"dtype\": \"category\",\n        \"num_unique_values\": 29,\n        \"samples\": [\n          \"Puducherry\",\n          \"Tripura\"\n        ],\n        \"semantic_type\": \"\",\n        \"description\": \"\"\n      }\n    },\n    {\n      \"column\": \"Years_in_Current_Employment\",\n      \"properties\": {\n        \"dtype\": \"number\",\n        \"std\": 3,\n        \"min\": 0,\n        \"max\": 14,\n        \"num_unique_values\": 15,\n        \"samples\": [\n          3,\n          6\n        ],\n        \"semantic_type\": \"\",\n        \"description\": \"\"\n      }\n    },\n    {\n      \"column\": \"Years_in_Current_Residence\",\n      \"properties\": {\n        \"dtype\": \"number\",\n        \"std\": 1,\n        \"min\": 10,\n        \"max\": 14,\n        \"num_unique_values\": 5,\n        \"samples\": [\n          11,\n          14\n        ],\n        \"semantic_type\": \"\",\n        \"description\": \"\"\n      }\n    },\n    {\n      \"column\": \"Loan_Default_Risk\",\n      \"properties\": {\n        \"dtype\": \"number\",\n        \"std\": 0,\n        \"min\": 0,\n        \"max\": 1,\n        \"num_unique_values\": 2,\n        \"samples\": [\n          1,\n          0\n        ],\n        \"semantic_type\": \"\",\n        \"description\": \"\"\n      }\n    }\n  ]\n}"
            }
          },
          "metadata": {},
          "execution_count": 45
        }
      ]
    },
    {
      "cell_type": "markdown",
      "source": [
        "Caricato il DataSet 'Applicant-details'. Questo set di dati fornisce approfondimenti su vari attributi dei richiedenti prestito in India, essenziali per valutare la loro idoneità all’approvazione del prestito.\n",
        "Avviamo l'analisi:"
      ],
      "metadata": {
        "id": "SUDk9VcjAaaY"
      }
    },
    {
      "cell_type": "code",
      "source": [
        "print('Di seguito tutte le colonne estratte dal DataSet')\n",
        "print()\n",
        "for x in df.columns:\n",
        "  print(x)"
      ],
      "metadata": {
        "colab": {
          "base_uri": "https://localhost:8080/"
        },
        "id": "43lzhFLDAojQ",
        "outputId": "703e0264-d6ae-4148-fc09-e70983e22419"
      },
      "execution_count": 46,
      "outputs": [
        {
          "output_type": "stream",
          "name": "stdout",
          "text": [
            "Di seguito tutte le colonne estratte dal DataSet\n",
            "\n",
            "Applicant_ID\n",
            "Annual_Income\n",
            "Applicant_Age\n",
            "Work_Experience\n",
            "Marital_Status\n",
            "House_Ownership\n",
            "Vehicle_Ownership(car)\n",
            "Occupation\n",
            "Residence_City\n",
            "Residence_State\n",
            "Years_in_Current_Employment\n",
            "Years_in_Current_Residence\n",
            "Loan_Default_Risk\n"
          ]
        }
      ]
    },
    {
      "cell_type": "markdown",
      "source": [
        "Breve spiegazione:\n",
        "\n",
        "**Applicant_ID** --> identificatore univoco per ciascun richiedente del prestito.\n",
        "\n",
        "**Annual_Income** --> reddito annuo del richiedente del prestito.\n",
        "\n",
        "**Applicant_Age** --> Età del richiedente del prestito.\n",
        "\n",
        "**Work_Experience** --> Numero di anni di esperienza lavorativa del richiedente del prestito.\n",
        "\n",
        "**Marital_Status** --> Stato civile del richiedente il prestito.\n",
        "\n",
        "**House_Ownership** --> Stato di proprietà della residenza del richiedente.\n",
        "\n",
        "**Vehicle_Ownership**(car) --> stato di proprietà del veicolo del richiedente.\n",
        "\n",
        "**Occupation** --> Professione o occupazione del richiedente del prestito.\n",
        "\n",
        "**Residence_City** --> Città in cui risiede il richiedente del prestito.\n",
        "\n",
        "**Residence_State** --> Stato in cui risiede il richiedente del prestito.\n",
        "\n",
        "**Years_in_Current_Employment** --> numero di anni di lavoro attuale del candidato.\n",
        "\n",
        "**Years_in_Current_Residence** --> numero di anni di residenza del richiedente nella residenza attuale.\n",
        "\n",
        "**Loan_Default_Risk** --> indicatore del rischio di inadempienza del prestito, con valori che indicano se il richiedente del prestito è a rischio di inadempienza sul prestito."
      ],
      "metadata": {
        "id": "-2FP5779A3U4"
      }
    },
    {
      "cell_type": "markdown",
      "source": [
        "Sistemiamo qualche colonna"
      ],
      "metadata": {
        "id": "IHxcUNUdB1YY"
      }
    },
    {
      "cell_type": "code",
      "source": [
        "df.rename(columns={'Marital_Status':'Stato_Civ'},inplace=True)\n",
        "df.rename(columns={'Loan_Default_Risk':'Risk'},inplace=True)"
      ],
      "metadata": {
        "id": "jmFWqyfvBlE5"
      },
      "execution_count": 47,
      "outputs": []
    },
    {
      "cell_type": "markdown",
      "source": [
        "Iniziamo l'analisi"
      ],
      "metadata": {
        "id": "0sk7q23RCsWg"
      }
    },
    {
      "cell_type": "code",
      "source": [
        "df.info()"
      ],
      "metadata": {
        "colab": {
          "base_uri": "https://localhost:8080/"
        },
        "id": "W7eiLMqCPShN",
        "outputId": "7b315653-8e71-4a54-f845-a0e035e26190"
      },
      "execution_count": 48,
      "outputs": [
        {
          "output_type": "stream",
          "name": "stdout",
          "text": [
            "<class 'pandas.core.frame.DataFrame'>\n",
            "RangeIndex: 100000 entries, 0 to 99999\n",
            "Data columns (total 13 columns):\n",
            " #   Column                       Non-Null Count   Dtype \n",
            "---  ------                       --------------   ----- \n",
            " 0   Applicant_ID                 100000 non-null  int64 \n",
            " 1   Annual_Income                100000 non-null  int64 \n",
            " 2   Applicant_Age                100000 non-null  int64 \n",
            " 3   Work_Experience              100000 non-null  int64 \n",
            " 4   Stato_Civ                    100000 non-null  object\n",
            " 5   House_Ownership              100000 non-null  object\n",
            " 6   Vehicle_Ownership(car)       100000 non-null  object\n",
            " 7   Occupation                   100000 non-null  object\n",
            " 8   Residence_City               100000 non-null  object\n",
            " 9   Residence_State              100000 non-null  object\n",
            " 10  Years_in_Current_Employment  100000 non-null  int64 \n",
            " 11  Years_in_Current_Residence   100000 non-null  int64 \n",
            " 12  Risk                         100000 non-null  int64 \n",
            "dtypes: int64(7), object(6)\n",
            "memory usage: 9.9+ MB\n"
          ]
        }
      ]
    },
    {
      "cell_type": "code",
      "source": [
        "df['Stato_Civ'].describe()"
      ],
      "metadata": {
        "colab": {
          "base_uri": "https://localhost:8080/"
        },
        "id": "XFlNLzQFCdPl",
        "outputId": "34a2eeef-cc12-4176-b020-356cb64519f5"
      },
      "execution_count": 49,
      "outputs": [
        {
          "output_type": "execute_result",
          "data": {
            "text/plain": [
              "count     100000\n",
              "unique         2\n",
              "top       single\n",
              "freq       89763\n",
              "Name: Stato_Civ, dtype: object"
            ]
          },
          "metadata": {},
          "execution_count": 49
        }
      ]
    },
    {
      "cell_type": "code",
      "source": [
        "df['Vehicle_Ownership(car)'].describe()"
      ],
      "metadata": {
        "colab": {
          "base_uri": "https://localhost:8080/"
        },
        "id": "TQTq8URsCvKY",
        "outputId": "763fce50-e8d2-4d97-8d78-8e49c55cd2a9"
      },
      "execution_count": 50,
      "outputs": [
        {
          "output_type": "execute_result",
          "data": {
            "text/plain": [
              "count     100000\n",
              "unique         2\n",
              "top           no\n",
              "freq       69665\n",
              "Name: Vehicle_Ownership(car), dtype: object"
            ]
          },
          "metadata": {},
          "execution_count": 50
        }
      ]
    },
    {
      "cell_type": "code",
      "source": [
        "df['Risk'].describe()"
      ],
      "metadata": {
        "colab": {
          "base_uri": "https://localhost:8080/"
        },
        "id": "g8USyR11C3RD",
        "outputId": "13e96571-bd12-483e-8d0e-6ff88d9440c9"
      },
      "execution_count": 51,
      "outputs": [
        {
          "output_type": "execute_result",
          "data": {
            "text/plain": [
              "count    100000.000000\n",
              "mean          0.129970\n",
              "std           0.336272\n",
              "min           0.000000\n",
              "25%           0.000000\n",
              "50%           0.000000\n",
              "75%           0.000000\n",
              "max           1.000000\n",
              "Name: Risk, dtype: float64"
            ]
          },
          "metadata": {},
          "execution_count": 51
        }
      ]
    },
    {
      "cell_type": "code",
      "source": [
        "df.groupby(['Risk','Stato_Civ'])['Applicant_ID'].count()"
      ],
      "metadata": {
        "colab": {
          "base_uri": "https://localhost:8080/"
        },
        "id": "rIX7QvkXC_-c",
        "outputId": "5d778aa8-9499-4d7c-d131-a62061d56150"
      },
      "execution_count": 52,
      "outputs": [
        {
          "output_type": "execute_result",
          "data": {
            "text/plain": [
              "Risk  Stato_Civ\n",
              "0     married       9109\n",
              "      single       77894\n",
              "1     married       1128\n",
              "      single       11869\n",
              "Name: Applicant_ID, dtype: int64"
            ]
          },
          "metadata": {},
          "execution_count": 52
        }
      ]
    },
    {
      "cell_type": "markdown",
      "source": [
        "Andiamo a rappresentare in che modo i single risulterebbero più a rischio"
      ],
      "metadata": {
        "id": "HSf3m1EzECjW"
      }
    },
    {
      "cell_type": "code",
      "source": [
        "sns.catplot(df,x = 'Stato_Civ', y='Applicant_ID', hue='Risk',kind='box')"
      ],
      "metadata": {
        "colab": {
          "base_uri": "https://localhost:8080/",
          "height": 523
        },
        "id": "YOminB6TDvCe",
        "outputId": "538d7a9c-4d1b-464c-9d4d-1eb51802f66c"
      },
      "execution_count": 53,
      "outputs": [
        {
          "output_type": "execute_result",
          "data": {
            "text/plain": [
              "<seaborn.axisgrid.FacetGrid at 0x793b74c45f00>"
            ]
          },
          "metadata": {},
          "execution_count": 53
        },
        {
          "output_type": "display_data",
          "data": {
            "text/plain": [
              "<Figure size 558.875x500 with 1 Axes>"
            ],
            "image/png": "[encoded data removed]"
          },
          "metadata": {}
        }
      ]
    },
    {
      "cell_type": "code",
      "source": [
        "sns.catplot(df, x = 'Stato_Civ', y='Risk', kind='bar')"
      ],
      "metadata": {
        "colab": {
          "base_uri": "https://localhost:8080/",
          "height": 524
        },
        "id": "jb3OabnbIvB3",
        "outputId": "3ba7abff-9a88-4aef-cceb-25f782b51e6e"
      },
      "execution_count": 54,
      "outputs": [
        {
          "output_type": "execute_result",
          "data": {
            "text/plain": [
              "<seaborn.axisgrid.FacetGrid at 0x793b71ab8160>"
            ]
          },
          "metadata": {},
          "execution_count": 54
        },
        {
          "output_type": "display_data",
          "data": {
            "text/plain": [
              "<Figure size 511.111x500 with 1 Axes>"
            ],
            "image/png": "[encoded data removed]"
          },
          "metadata": {}
        }
      ]
    },
    {
      "cell_type": "markdown",
      "source": [
        "Proseguiamo l'analisi comprendendo altri parametri:"
      ],
      "metadata": {
        "id": "gZj1ONiELCuD"
      }
    },
    {
      "cell_type": "code",
      "source": [
        "df.groupby(['Work_Experience'])['Applicant_Age'].mean()"
      ],
      "metadata": {
        "colab": {
          "base_uri": "https://localhost:8080/"
        },
        "id": "7ReD4Bw2LHnT",
        "outputId": "9028d37e-8bab-4e22-b5b4-c890ca22290b"
      },
      "execution_count": 55,
      "outputs": [
        {
          "output_type": "execute_result",
          "data": {
            "text/plain": [
              "Work_Experience\n",
              "0     49.797260\n",
              "1     49.597051\n",
              "2     49.533349\n",
              "3     49.678265\n",
              "4     51.240959\n",
              "5     49.295354\n",
              "6     51.179102\n",
              "7     49.834590\n",
              "8     51.725756\n",
              "9     48.872734\n",
              "10    49.156945\n",
              "11    49.826501\n",
              "12    49.356863\n",
              "13    49.790763\n",
              "14    50.390779\n",
              "15    51.053799\n",
              "16    50.538877\n",
              "17    49.504319\n",
              "18    50.509248\n",
              "19    49.627018\n",
              "20    49.432215\n",
              "Name: Applicant_Age, dtype: float64"
            ]
          },
          "metadata": {},
          "execution_count": 55
        }
      ]
    },
    {
      "cell_type": "code",
      "source": [
        "df.groupby(['Risk','Stato_Civ'])['Applicant_Age'].mean()"
      ],
      "metadata": {
        "colab": {
          "base_uri": "https://localhost:8080/"
        },
        "id": "qCHcimgSMcvS",
        "outputId": "84b2d804-9d01-4f2e-8737-ebea22c53e54"
      },
      "execution_count": 56,
      "outputs": [
        {
          "output_type": "execute_result",
          "data": {
            "text/plain": [
              "Risk  Stato_Civ\n",
              "0     married      50.387419\n",
              "      single       50.112088\n",
              "1     married      48.937943\n",
              "      single       49.029236\n",
              "Name: Applicant_Age, dtype: float64"
            ]
          },
          "metadata": {},
          "execution_count": 56
        }
      ]
    },
    {
      "cell_type": "code",
      "source": [
        "sns.catplot(df, x = 'Risk', y='Applicant_Age', kind='bar')"
      ],
      "metadata": {
        "colab": {
          "base_uri": "https://localhost:8080/",
          "height": 523
        },
        "id": "xL85iggFMicW",
        "outputId": "9f7320e2-58bd-4338-ee0a-8d191cb50317"
      },
      "execution_count": 57,
      "outputs": [
        {
          "output_type": "execute_result",
          "data": {
            "text/plain": [
              "<seaborn.axisgrid.FacetGrid at 0x793b71a629e0>"
            ]
          },
          "metadata": {},
          "execution_count": 57
        },
        {
          "output_type": "display_data",
          "data": {
            "text/plain": [
              "<Figure size 511.111x500 with 1 Axes>"
            ],
            "image/png": "[encoded data removed]"
          },
          "metadata": {}
        }
      ]
    },
    {
      "cell_type": "code",
      "source": [
        "df.groupby(['Residence_State','Occupation'])['Years_in_Current_Employment'].mean()"
      ],
      "metadata": {
        "colab": {
          "base_uri": "https://localhost:8080/"
        },
        "id": "bPXgzZtMNBfz",
        "outputId": "14de05db-5e72-4dc7-8ec8-e6ada738ec62"
      },
      "execution_count": 58,
      "outputs": [
        {
          "output_type": "execute_result",
          "data": {
            "text/plain": [
              "Residence_State  Occupation            \n",
              "Andhra_Pradesh   Air_traffic_controller    8.069182\n",
              "                 Analyst                   4.667665\n",
              "                 Architect                 7.516908\n",
              "                 Army_officer              6.426230\n",
              "                 Artist                    5.828571\n",
              "                                             ...   \n",
              "West_Bengal      Surveyor                  5.974359\n",
              "                 Technical_writer          8.141975\n",
              "                 Technician                6.311765\n",
              "                 Technology_specialist     7.014815\n",
              "                 Web_designer              5.918750\n",
              "Name: Years_in_Current_Employment, Length: 1128, dtype: float64"
            ]
          },
          "metadata": {},
          "execution_count": 58
        }
      ]
    },
    {
      "cell_type": "markdown",
      "source": [
        "Di seguito il link per accedere al file python:  \\\n",
        "\\\n",
        "Contatti:\\\n",
        "E-mail: alessandro.sinigaglia1997@gmail.com\\\n",
        "Telefono: 340 958 2184"
      ],
      "metadata": {
        "id": "rxpZ9oA7Pc81"
      }
    }
  ]
}